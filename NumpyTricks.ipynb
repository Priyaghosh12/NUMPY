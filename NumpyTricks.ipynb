{
 "cells": [
  {
   "cell_type": "markdown",
   "metadata": {},
   "source": [
    "# np.sort(return a sorted copy of array)"
   ]
  },
  {
   "cell_type": "code",
   "execution_count": 2,
   "metadata": {},
   "outputs": [
    {
     "name": "stdout",
     "output_type": "stream",
     "text": [
      "[15 71 81 75 24 32 28  8 42 39 61 54 39 80 12]\n",
      "[ 8 12 15 24 28 32 39 39 42 54 61 71 75 80 81]\n",
      "[81 80 75 71 61 54 42 39 39 32 28 24 15 12  8]\n"
     ]
    }
   ],
   "source": [
    "#1D array\n",
    "import numpy as np\n",
    "a=np.random.randint(1,100,15)\n",
    "print(a)\n",
    "print(np.sort(a))#ascending order\n",
    "print(np.sort(a,)[::-1])#decending order"
   ]
  },
  {
   "cell_type": "code",
   "execution_count": 3,
   "metadata": {},
   "outputs": [
    {
     "name": "stdout",
     "output_type": "stream",
     "text": [
      "[[53 70 92 40]\n",
      " [69 17 59 46]\n",
      " [76 29 58 44]\n",
      " [58 88  6 32]\n",
      " [17 77 99  1]\n",
      " [19 72 93 20]]\n",
      "[[17 17  6  1]\n",
      " [19 29 58 20]\n",
      " [53 70 59 32]\n",
      " [58 72 92 40]\n",
      " [69 77 93 44]\n",
      " [76 88 99 46]]\n",
      "[[40 53 70 92]\n",
      " [17 46 59 69]\n",
      " [29 44 58 76]\n",
      " [ 6 32 58 88]\n",
      " [ 1 17 77 99]\n",
      " [19 20 72 93]]\n"
     ]
    }
   ],
   "source": [
    "#2D array\n",
    "b=np.random.randint(1,100,24).reshape(6,4)\n",
    "print(b)\n",
    "print(np.sort(b,axis=0))#column sorting\n",
    "print(np.sort(b,axis=1))#Row sorting"
   ]
  },
  {
   "cell_type": "markdown",
   "metadata": {},
   "source": [
    "# np.append\n",
    "\n",
    "->appends value along the mentioned axis at the end of the array"
   ]
  },
  {
   "cell_type": "code",
   "execution_count": 4,
   "metadata": {},
   "outputs": [
    {
     "data": {
      "text/plain": [
       "array([ 1,  2,  3,  5,  7, 10])"
      ]
     },
     "execution_count": 4,
     "metadata": {},
     "output_type": "execute_result"
    }
   ],
   "source": [
    "#1D array\n",
    "a=np.array([1,2,3,5,7])\n",
    "np.append(a,10)"
   ]
  },
  {
   "cell_type": "code",
   "execution_count": 5,
   "metadata": {},
   "outputs": [
    {
     "data": {
      "text/plain": [
       "array([[53, 70, 92, 40],\n",
       "       [69, 17, 59, 46],\n",
       "       [76, 29, 58, 44],\n",
       "       [58, 88,  6, 32],\n",
       "       [17, 77, 99,  1],\n",
       "       [19, 72, 93, 20]], dtype=int32)"
      ]
     },
     "execution_count": 5,
     "metadata": {},
     "output_type": "execute_result"
    }
   ],
   "source": [
    "b"
   ]
  },
  {
   "cell_type": "code",
   "execution_count": 6,
   "metadata": {},
   "outputs": [
    {
     "data": {
      "text/plain": [
       "array([[48., 30., 14., 24.,  1.],\n",
       "       [15., 48., 22., 42.,  1.],\n",
       "       [49., 26., 23., 46.,  1.]])"
      ]
     },
     "execution_count": 6,
     "metadata": {},
     "output_type": "execute_result"
    }
   ],
   "source": [
    "#2D array\n",
    "b=np.random.randint(1,50,12).reshape(3,4)\n",
    "np.append(b,np.ones((b.shape[0],1)),axis=1)"
   ]
  },
  {
   "cell_type": "markdown",
   "metadata": {},
   "source": [
    "# np.concatenate\n",
    "\n",
    "->concatenate a sequence of arrays along an existing axis"
   ]
  },
  {
   "cell_type": "code",
   "execution_count": 7,
   "metadata": {},
   "outputs": [
    {
     "name": "stdout",
     "output_type": "stream",
     "text": [
      "[[ 0  1  2  3]\n",
      " [ 4  5  6  7]\n",
      " [ 8  9 10 11]\n",
      " [12 13 14 15]\n",
      " [16 17 18 19]\n",
      " [20 21 22 23]]\n",
      "[[ 0  1  2  3 12 13 14 15]\n",
      " [ 4  5  6  7 16 17 18 19]\n",
      " [ 8  9 10 11 20 21 22 23]]\n"
     ]
    }
   ],
   "source": [
    "#2D array\n",
    "a1=np.arange(12).reshape(3,4)\n",
    "a2=np.arange(12,24).reshape(3,4)\n",
    "\n",
    "print(np.concatenate((a1,a2),axis=0))#Concatenate with column\n",
    "print(np.concatenate((a1,a2),axis=1))#concatenate with row"
   ]
  },
  {
   "cell_type": "markdown",
   "metadata": {},
   "source": [
    "# np.unique\n",
    "\n",
    "->we can get the unique values from an array given as parameter in np.unique() method"
   ]
  },
  {
   "cell_type": "code",
   "execution_count": 8,
   "metadata": {},
   "outputs": [
    {
     "data": {
      "text/plain": [
       "array([1, 2, 3, 4, 5, 8])"
      ]
     },
     "execution_count": 8,
     "metadata": {},
     "output_type": "execute_result"
    }
   ],
   "source": [
    "a3=np.array([1,1,1,2,2,2,3,3,4,4,5,5,8,8])\n",
    "np.unique(a3)"
   ]
  },
  {
   "cell_type": "markdown",
   "metadata": {},
   "source": [
    "# np.expand_dims(expand dimension)\n",
    "\n",
    "->we can get expanded dimension of an array"
   ]
  },
  {
   "cell_type": "code",
   "execution_count": 9,
   "metadata": {},
   "outputs": [
    {
     "name": "stdout",
     "output_type": "stream",
     "text": [
      "(6,)\n",
      "(1, 6)\n",
      "(6, 1)\n"
     ]
    }
   ],
   "source": [
    "a4=np.array([1,2,3,4,5,6])\n",
    "print(a4.shape)\n",
    "\n",
    "print(np.expand_dims(a4,axis=0).shape)\n",
    "print(np.expand_dims(a4,axis=1).shape)"
   ]
  },
  {
   "cell_type": "markdown",
   "metadata": {},
   "source": [
    "# np.where\n",
    "\n",
    "->returns the indices of all elements in an input array where the given condition is satisfied"
   ]
  },
  {
   "cell_type": "code",
   "execution_count": 10,
   "metadata": {},
   "outputs": [
    {
     "name": "stdout",
     "output_type": "stream",
     "text": [
      "[27 73 81 63 69  2 64 60 11 92 10  5 38 14 36 44 22 31 47  8 70 20 84  2]\n"
     ]
    },
    {
     "data": {
      "text/plain": [
       "(array([ 1,  2,  3,  4,  6,  7,  9, 20, 22]),)"
      ]
     },
     "execution_count": 10,
     "metadata": {},
     "output_type": "execute_result"
    }
   ],
   "source": [
    "a=np.random.randint(1,100,24)\n",
    "print(a)\n",
    "\n",
    "np.where(a>50)"
   ]
  },
  {
   "cell_type": "code",
   "execution_count": 11,
   "metadata": {},
   "outputs": [
    {
     "data": {
      "text/plain": [
       "array([27,  0,  0,  0,  0,  2,  0,  0, 11,  0, 10,  5, 38, 14, 36, 44, 22,\n",
       "       31, 47,  8,  0, 20,  0,  2], dtype=int32)"
      ]
     },
     "execution_count": 11,
     "metadata": {},
     "output_type": "execute_result"
    }
   ],
   "source": [
    "#replace all values >50 with 0\n",
    "np.where(a>50,0,a)#(condition,True,False)"
   ]
  },
  {
   "cell_type": "code",
   "execution_count": 12,
   "metadata": {},
   "outputs": [
    {
     "data": {
      "text/plain": [
       "array([27, 73, 81, 63, 69,  0,  0,  0, 11,  0,  0,  5,  0,  0,  0,  0,  0,\n",
       "       31, 47,  0,  0,  0,  0,  0], dtype=int32)"
      ]
     },
     "execution_count": 12,
     "metadata": {},
     "output_type": "execute_result"
    }
   ],
   "source": [
    "#replace even numbers with 0\n",
    "np.where(a%2==0,0,a)"
   ]
  },
  {
   "cell_type": "markdown",
   "metadata": {},
   "source": [
    "# np.argmax\n",
    "\n",
    "->return the index of max element of the array in a particular axis"
   ]
  },
  {
   "cell_type": "code",
   "execution_count": 13,
   "metadata": {},
   "outputs": [
    {
     "name": "stdout",
     "output_type": "stream",
     "text": [
      "[46 48 91  4 89 27 47 44 79 86 35 26  7 74 87 39 44 13 67 35 86 42 91 15\n",
      " 60 30 96 41 36 87]\n",
      "26\n"
     ]
    }
   ],
   "source": [
    "#1D array\n",
    "a=np.random.randint(1,100,30)\n",
    "print(a)\n",
    "print(np.argmax(a))"
   ]
  },
  {
   "cell_type": "code",
   "execution_count": 14,
   "metadata": {},
   "outputs": [
    {
     "name": "stdout",
     "output_type": "stream",
     "text": [
      "[[ 0  1  2  3  4  5]\n",
      " [ 6  7  8  9 10 11]\n",
      " [12 13 14 15 16 17]\n",
      " [18 19 20 21 22 23]]\n"
     ]
    },
    {
     "data": {
      "text/plain": [
       "array([3, 3, 3, 3, 3, 3])"
      ]
     },
     "execution_count": 14,
     "metadata": {},
     "output_type": "execute_result"
    }
   ],
   "source": [
    "#2D array\n",
    "b=np.arange(24).reshape(4,6)\n",
    "print(b)\n",
    "\n",
    "np.argmax(b,axis=0)"
   ]
  },
  {
   "cell_type": "markdown",
   "metadata": {},
   "source": [
    "# np.argmin\n",
    "\n",
    "->return the index of the minimum value of the array in particular axis"
   ]
  },
  {
   "cell_type": "code",
   "execution_count": 15,
   "metadata": {},
   "outputs": [
    {
     "name": "stdout",
     "output_type": "stream",
     "text": [
      "[46 48 91  4 89 27 47 44 79 86 35 26  7 74 87 39 44 13 67 35 86 42 91 15\n",
      " 60 30 96 41 36 87]\n",
      "3\n"
     ]
    }
   ],
   "source": [
    "print(a)\n",
    "print(np.argmin(a)) "
   ]
  },
  {
   "cell_type": "markdown",
   "metadata": {},
   "source": [
    "# np.cumsum\n",
    "\n",
    "->we can calculate the cumulative sum of array elements over a given axis"
   ]
  },
  {
   "cell_type": "code",
   "execution_count": 16,
   "metadata": {},
   "outputs": [
    {
     "name": "stdout",
     "output_type": "stream",
     "text": [
      "[46 48 91  4 89 27 47 44 79 86 35 26  7 74 87 39 44 13 67 35 86 42 91 15\n",
      " 60 30 96 41 36 87]\n",
      "[  46   94  185  189  278  305  352  396  475  561  596  622  629  703\n",
      "  790  829  873  886  953  988 1074 1116 1207 1222 1282 1312 1408 1449\n",
      " 1485 1572]\n"
     ]
    }
   ],
   "source": [
    "#1D array\n",
    "print(a)\n",
    "print(np.cumsum(a))"
   ]
  },
  {
   "cell_type": "code",
   "execution_count": 17,
   "metadata": {},
   "outputs": [
    {
     "name": "stdout",
     "output_type": "stream",
     "text": [
      "[[ 0  1  2  3  4  5]\n",
      " [ 6  7  8  9 10 11]\n",
      " [12 13 14 15 16 17]\n",
      " [18 19 20 21 22 23]]\n",
      "[[ 0  1  2  3  4  5]\n",
      " [ 6  8 10 12 14 16]\n",
      " [18 21 24 27 30 33]\n",
      " [36 40 44 48 52 56]]\n"
     ]
    }
   ],
   "source": [
    "#2D array\n",
    "print(b)\n",
    "print(np.cumsum(b,axis=0))"
   ]
  },
  {
   "cell_type": "markdown",
   "metadata": {},
   "source": [
    "# np.cumprod\n",
    "\n",
    "->return cumulative product of array elements over a given axis"
   ]
  },
  {
   "cell_type": "code",
   "execution_count": 18,
   "metadata": {},
   "outputs": [
    {
     "name": "stdout",
     "output_type": "stream",
     "text": [
      "[87 90 71  7 47 52 92 33 69 27]\n"
     ]
    },
    {
     "data": {
      "text/plain": [
       "array([               87,              7830,            555930,\n",
       "                 3891510,         182900970,        9510850440,\n",
       "            874998240480,    28874941935840,  1992370993572960,\n",
       "       53794016826469920])"
      ]
     },
     "execution_count": 18,
     "metadata": {},
     "output_type": "execute_result"
    }
   ],
   "source": [
    "#1D array\n",
    "a=np.random.randint(1,100,10)\n",
    "print(a)\n",
    "\n",
    "np.cumprod(a)"
   ]
  },
  {
   "cell_type": "code",
   "execution_count": 19,
   "metadata": {},
   "outputs": [
    {
     "name": "stdout",
     "output_type": "stream",
     "text": [
      "[[42 25 24 14 22  4]\n",
      " [ 6 47 26  6 35 48]\n",
      " [ 1  9 14  6  2 41]\n",
      " [34 28 25 36 35 42]]\n"
     ]
    },
    {
     "data": {
      "text/plain": [
       "array([[        42,       1050,      25200,     352800,    7761600,\n",
       "          31046400],\n",
       "       [         6,        282,       7332,      43992,    1539720,\n",
       "          73906560],\n",
       "       [         1,          9,        126,        756,       1512,\n",
       "             61992],\n",
       "       [        34,        952,      23800,     856800,   29988000,\n",
       "        1259496000]])"
      ]
     },
     "execution_count": 19,
     "metadata": {},
     "output_type": "execute_result"
    }
   ],
   "source": [
    "#2D array\n",
    "b=np.random.randint(1,50,24).reshape(4,6)\n",
    "print(b)\n",
    "\n",
    "np.cumprod(b,axis=1)"
   ]
  },
  {
   "cell_type": "markdown",
   "metadata": {},
   "source": [
    "# np.percentile\n",
    "\n",
    "->used to calculate the nth percentile of the array elements along the speciefic axis"
   ]
  },
  {
   "cell_type": "code",
   "execution_count": 20,
   "metadata": {},
   "outputs": [
    {
     "name": "stdout",
     "output_type": "stream",
     "text": [
      "[87 90 71  7 47 52 92 33 69 27]\n",
      "92.0\n",
      "7.0\n",
      "60.5\n"
     ]
    }
   ],
   "source": [
    "print(a)\n",
    "\n",
    "print(np.percentile(a,100))#Return max element\n",
    "print(np.percentile(a,0))#return min element\n",
    "print(np.percentile(a,50))#return mid element"
   ]
  },
  {
   "cell_type": "markdown",
   "metadata": {},
   "source": [
    "# np.histogram\n",
    "\n",
    "->represents the frequency of data distribution in the graphical form"
   ]
  },
  {
   "cell_type": "code",
   "execution_count": 39,
   "metadata": {},
   "outputs": [
    {
     "name": "stdout",
     "output_type": "stream",
     "text": [
      "[ 90 100  30  50  60]\n"
     ]
    },
    {
     "data": {
      "text/plain": [
       "(array([0, 0, 1, 0, 1, 1, 0, 0, 2]),\n",
       " array([ 10,  20,  30,  40,  50,  60,  70,  80,  90, 100]))"
      ]
     },
     "execution_count": 39,
     "metadata": {},
     "output_type": "execute_result"
    }
   ],
   "source": [
    "print(a)\n",
    "np.histogram(a,bins=[10,20,30,40,50,60,70,80,90,100])"
   ]
  },
  {
   "cell_type": "markdown",
   "metadata": {},
   "source": [
    "# np.corrcoef\n",
    "\n",
    "->return pearson product-moment correlation coefficient"
   ]
  },
  {
   "cell_type": "code",
   "execution_count": 22,
   "metadata": {},
   "outputs": [
    {
     "data": {
      "text/plain": [
       "array([[ 1.        , -0.02816064],\n",
       "       [-0.02816064,  1.        ]])"
      ]
     },
     "execution_count": 22,
     "metadata": {},
     "output_type": "execute_result"
    }
   ],
   "source": [
    "salary=np.array([20000,40000,35000,25000,60000])\n",
    "experience=np.array([1,3,2,4,2])\n",
    "\n",
    "np.corrcoef(salary,experience)"
   ]
  },
  {
   "cell_type": "markdown",
   "metadata": {},
   "source": [
    "# np.isin\n",
    "\n",
    "->it helps to search more than one element in the same time"
   ]
  },
  {
   "cell_type": "code",
   "execution_count": 23,
   "metadata": {},
   "outputs": [
    {
     "name": "stdout",
     "output_type": "stream",
     "text": [
      "[70 93 17 20 54 12 27 82 24 44 66 51 90  9 77]\n"
     ]
    },
    {
     "data": {
      "text/plain": [
       "array([20], dtype=int32)"
      ]
     },
     "execution_count": 23,
     "metadata": {},
     "output_type": "execute_result"
    }
   ],
   "source": [
    "import numpy as np\n",
    "a=np.random.randint(1,100,15)\n",
    "items=[10,20,50,60,45,78,30]\n",
    "\n",
    "print(a)\n",
    "a[np.isin(a,items)]"
   ]
  },
  {
   "cell_type": "markdown",
   "metadata": {},
   "source": [
    "# np.flip\n",
    "\n",
    "-> reverse the order of array element in a particular axis"
   ]
  },
  {
   "cell_type": "code",
   "execution_count": 24,
   "metadata": {},
   "outputs": [
    {
     "name": "stdout",
     "output_type": "stream",
     "text": [
      "[60 50 30 20 10]\n"
     ]
    }
   ],
   "source": [
    "# 1D array\n",
    "a=np.array([10,20,30,50,60])\n",
    "\n",
    "print(np.flip(a))"
   ]
  },
  {
   "cell_type": "code",
   "execution_count": 25,
   "metadata": {},
   "outputs": [
    {
     "name": "stdout",
     "output_type": "stream",
     "text": [
      "[[ 0  1  2  3]\n",
      " [ 4  5  6  7]\n",
      " [ 8  9 10 11]]\n"
     ]
    },
    {
     "data": {
      "text/plain": [
       "array([[ 8,  9, 10, 11],\n",
       "       [ 4,  5,  6,  7],\n",
       "       [ 0,  1,  2,  3]])"
      ]
     },
     "execution_count": 25,
     "metadata": {},
     "output_type": "execute_result"
    }
   ],
   "source": [
    "#2D array\n",
    "a1=np.arange(12).reshape(3,4)\n",
    "print(a1)\n",
    "np.flip(a1,axis=0)#coulmn element flip"
   ]
  },
  {
   "cell_type": "markdown",
   "metadata": {},
   "source": [
    "# np.put\n",
    "\n",
    "->it replace speceific array elements with given value.Array indexed worked on fattened array."
   ]
  },
  {
   "cell_type": "code",
   "execution_count": 34,
   "metadata": {},
   "outputs": [
    {
     "name": "stdout",
     "output_type": "stream",
     "text": [
      "[ 90 100  30  50  60]\n"
     ]
    },
    {
     "data": {
      "text/plain": [
       "array([ 90, 100,  30,  50,  60])"
      ]
     },
     "execution_count": 34,
     "metadata": {},
     "output_type": "execute_result"
    }
   ],
   "source": [
    "print(a)\n",
    "np.put(a,[0,1],[90,100])\n",
    "a"
   ]
  },
  {
   "cell_type": "markdown",
   "metadata": {},
   "source": [
    "# np.delete\n",
    "\n",
    "->delete the multiple array elements in one time"
   ]
  },
  {
   "cell_type": "code",
   "execution_count": 27,
   "metadata": {},
   "outputs": [
    {
     "name": "stdout",
     "output_type": "stream",
     "text": [
      "[ 90 100  30  50  60]\n"
     ]
    },
    {
     "data": {
      "text/plain": [
       "array([30, 60])"
      ]
     },
     "execution_count": 27,
     "metadata": {},
     "output_type": "execute_result"
    }
   ],
   "source": [
    "print(a)\n",
    "np.delete(a,[0,1,3])"
   ]
  },
  {
   "cell_type": "markdown",
   "metadata": {},
   "source": [
    "# set function"
   ]
  },
  {
   "cell_type": "code",
   "execution_count": 28,
   "metadata": {},
   "outputs": [
    {
     "data": {
      "text/plain": [
       "array([1, 2, 3, 4, 5])"
      ]
     },
     "execution_count": 28,
     "metadata": {},
     "output_type": "execute_result"
    }
   ],
   "source": [
    "# np.union1d\n",
    "a1=np.array([1,2,3,4,5])\n",
    "a2=np.array([2,3,4])\n",
    "\n",
    "np.union1d(a1,a2)"
   ]
  },
  {
   "cell_type": "code",
   "execution_count": 29,
   "metadata": {},
   "outputs": [
    {
     "data": {
      "text/plain": [
       "array([2, 3, 4])"
      ]
     },
     "execution_count": 29,
     "metadata": {},
     "output_type": "execute_result"
    }
   ],
   "source": [
    "#np.intersect1d\n",
    "np.intersect1d(a1,a2)"
   ]
  },
  {
   "cell_type": "code",
   "execution_count": 30,
   "metadata": {},
   "outputs": [
    {
     "data": {
      "text/plain": [
       "array([1, 5])"
      ]
     },
     "execution_count": 30,
     "metadata": {},
     "output_type": "execute_result"
    }
   ],
   "source": [
    "#np.setdiff1d\n",
    "np.setdiff1d(a1,a2)"
   ]
  },
  {
   "cell_type": "code",
   "execution_count": 31,
   "metadata": {},
   "outputs": [
    {
     "data": {
      "text/plain": [
       "array([1, 5])"
      ]
     },
     "execution_count": 31,
     "metadata": {},
     "output_type": "execute_result"
    }
   ],
   "source": [
    "#np.setxor1d(return uncommon element)\n",
    "np.setxor1d(a1,a2)"
   ]
  },
  {
   "cell_type": "code",
   "execution_count": 32,
   "metadata": {},
   "outputs": [
    {
     "name": "stderr",
     "output_type": "stream",
     "text": [
      "C:\\Users\\pghos\\AppData\\Local\\Temp\\ipykernel_12000\\1630199649.py:2: DeprecationWarning: `in1d` is deprecated. Use `np.isin` instead.\n",
      "  np.in1d(a1,2)\n"
     ]
    },
    {
     "data": {
      "text/plain": [
       "array([False,  True, False, False, False])"
      ]
     },
     "execution_count": 32,
     "metadata": {},
     "output_type": "execute_result"
    }
   ],
   "source": [
    "#np.in1d(check the element is present in the array or not)\n",
    "np.in1d(a1,2)"
   ]
  },
  {
   "cell_type": "markdown",
   "metadata": {},
   "source": [
    "# np.clip\n",
    "\n",
    "->used to clip (limit) the values in the array"
   ]
  },
  {
   "cell_type": "code",
   "execution_count": 37,
   "metadata": {},
   "outputs": [
    {
     "name": "stdout",
     "output_type": "stream",
     "text": [
      "[ 90 100  30  50  60]\n"
     ]
    },
    {
     "data": {
      "text/plain": [
       "array([75, 75, 30, 50, 60])"
      ]
     },
     "execution_count": 37,
     "metadata": {},
     "output_type": "execute_result"
    }
   ],
   "source": [
    "print(a)\n",
    "np.clip(a,a_min=25,a_max=75)"
   ]
  }
 ],
 "metadata": {
  "kernelspec": {
   "display_name": "Python 3",
   "language": "python",
   "name": "python3"
  },
  "language_info": {
   "codemirror_mode": {
    "name": "ipython",
    "version": 3
   },
   "file_extension": ".py",
   "mimetype": "text/x-python",
   "name": "python",
   "nbconvert_exporter": "python",
   "pygments_lexer": "ipython3",
   "version": "3.13.0"
  }
 },
 "nbformat": 4,
 "nbformat_minor": 2
}
