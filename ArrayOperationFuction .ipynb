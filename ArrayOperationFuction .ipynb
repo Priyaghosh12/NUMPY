{
 "cells": [
  {
   "cell_type": "markdown",
   "metadata": {},
   "source": [
    "# Array Operation"
   ]
  },
  {
   "cell_type": "code",
   "execution_count": null,
   "metadata": {},
   "outputs": [
    {
     "name": "stdout",
     "output_type": "stream",
     "text": [
      "[[ 0  2  4  6]\n",
      " [ 8 10 12 14]\n",
      " [16 18 20 22]]\n",
      "[[  0   1   4   9]\n",
      " [ 16  25  36  49]\n",
      " [ 64  81 100 121]]\n",
      "[[0 1 0 1]\n",
      " [0 1 0 1]\n",
      " [0 1 0 1]]\n"
     ]
    }
   ],
   "source": [
    "# scalar operation (arithmatic operation)\n",
    "import numpy as np\n",
    "a1=np.arange(12).reshape(3,4)\n",
    "print(2*a1)\n",
    "print(a1**2)\n",
    "print(a1%2)"
   ]
  },
  {
   "cell_type": "code",
   "execution_count": null,
   "metadata": {},
   "outputs": [
    {
     "name": "stdout",
     "output_type": "stream",
     "text": [
      "[[False False False False]\n",
      " [False False  True  True]\n",
      " [ True  True  True  True]]\n",
      "[[False False False False]\n",
      " [False  True False False]\n",
      " [False False False False]]\n",
      "[[ True  True  True  True]\n",
      " [ True False False False]\n",
      " [False False False False]]\n",
      "[[ True  True  True  True]\n",
      " [ True False  True  True]\n",
      " [ True  True  True  True]]\n"
     ]
    }
   ],
   "source": [
    "# scalar operation(Relational operator)\n",
    "print(a1>5)\n",
    "print(a1==5)\n",
    "print(a1<5)\n",
    "print(a1!=5)"
   ]
  },
  {
   "cell_type": "code",
   "execution_count": 3,
   "metadata": {},
   "outputs": [
    {
     "name": "stdout",
     "output_type": "stream",
     "text": [
      "[[12 14 16 18]\n",
      " [20 22 24 26]\n",
      " [28 30 32 34]]\n",
      "[[-12 -12 -12 -12]\n",
      " [-12 -12 -12 -12]\n",
      " [-12 -12 -12 -12]]\n"
     ]
    }
   ],
   "source": [
    "#Vector operation\n",
    "a1=np.arange(12).reshape(3,4)\n",
    "a2=np.arange(12,24).reshape(3,4)\n",
    "print(a1+a2)\n",
    "print(a1-a2)"
   ]
  },
  {
   "cell_type": "markdown",
   "metadata": {},
   "source": [
    "# Array function"
   ]
  },
  {
   "cell_type": "code",
   "execution_count": 7,
   "metadata": {},
   "outputs": [
    {
     "data": {
      "text/plain": [
       "array([[36., 82., 31.],\n",
       "       [32., 24., 39.],\n",
       "       [30., 93., 20.]])"
      ]
     },
     "execution_count": 7,
     "metadata": {},
     "output_type": "execute_result"
    }
   ],
   "source": [
    "import numpy as np\n",
    "a1=np.random.random((3,3))\n",
    "a1=np.round(a1*100)\n",
    "a1"
   ]
  },
  {
   "cell_type": "code",
   "execution_count": 8,
   "metadata": {},
   "outputs": [
    {
     "name": "stdout",
     "output_type": "stream",
     "text": [
      "[[36. 82. 31.]\n",
      " [32. 24. 39.]\n",
      " [30. 93. 20.]]\n",
      "93.0\n",
      "[36. 93. 39.]\n"
     ]
    }
   ],
   "source": [
    "#max(Return maximum element in array/in particular row or coulmn)\n",
    "print(a1)\n",
    "print(np.max(a1))\n",
    "print(np.max(a1,axis=0))#0->coulmn,1->row"
   ]
  },
  {
   "cell_type": "code",
   "execution_count": 9,
   "metadata": {},
   "outputs": [
    {
     "name": "stdout",
     "output_type": "stream",
     "text": [
      "20.0\n",
      "[31. 24. 20.]\n"
     ]
    }
   ],
   "source": [
    "#min(Return minimum element)\n",
    "print(np.min(a1))\n",
    "print(np.min(a1,axis=1))"
   ]
  },
  {
   "cell_type": "code",
   "execution_count": 10,
   "metadata": {},
   "outputs": [
    {
     "name": "stdout",
     "output_type": "stream",
     "text": [
      "387.0\n"
     ]
    }
   ],
   "source": [
    "#sum(return sum of all elements)\n",
    "print(np.sum(a1))"
   ]
  },
  {
   "cell_type": "code",
   "execution_count": 11,
   "metadata": {},
   "outputs": [
    {
     "name": "stdout",
     "output_type": "stream",
     "text": [
      "152945982259200.0\n"
     ]
    }
   ],
   "source": [
    "#Product(Return product of all elements)\n",
    "print(np.prod(a1))"
   ]
  },
  {
   "cell_type": "code",
   "execution_count": 12,
   "metadata": {},
   "outputs": [
    {
     "name": "stdout",
     "output_type": "stream",
     "text": [
      "43.0\n",
      "[32.66666667 66.33333333 30.        ]\n"
     ]
    }
   ],
   "source": [
    "#mean(Return mean of all elements/element of particular rows or coulmn)\n",
    "print(np.mean(a1))\n",
    "print(np.mean(a1,axis=0))"
   ]
  },
  {
   "cell_type": "code",
   "execution_count": 13,
   "metadata": {},
   "outputs": [
    {
     "name": "stdout",
     "output_type": "stream",
     "text": [
      "[[36. 82. 31.]\n",
      " [32. 24. 39.]\n",
      " [30. 93. 20.]]\n",
      "32.0\n",
      "[32. 82. 31.]\n"
     ]
    }
   ],
   "source": [
    "#median\n",
    "print(a1)\n",
    "print(np.median(a1))\n",
    "print(np.median(a1,axis=0))"
   ]
  },
  {
   "cell_type": "code",
   "execution_count": 14,
   "metadata": {},
   "outputs": [
    {
     "name": "stdout",
     "output_type": "stream",
     "text": [
      "24.517567397911055\n",
      "[22.9540604   6.12825877 32.31442746]\n"
     ]
    }
   ],
   "source": [
    "#standard deviation(std)\n",
    "print(np.std(a1))\n",
    "print(np.std(a1,axis=1))\n"
   ]
  },
  {
   "cell_type": "code",
   "execution_count": 15,
   "metadata": {},
   "outputs": [
    {
     "name": "stdout",
     "output_type": "stream",
     "text": [
      "601.1111111111111\n",
      "[  6.22222222 916.22222222  60.66666667]\n"
     ]
    }
   ],
   "source": [
    "#variance(var)\n",
    "print(np.var(a1))\n",
    "print(np.var(a1,axis=0))"
   ]
  },
  {
   "cell_type": "code",
   "execution_count": 16,
   "metadata": {},
   "outputs": [
    {
     "data": {
      "text/plain": [
       "(<module 'numpy' from 'C:\\\\Users\\\\pghos\\\\AppData\\\\Roaming\\\\Python\\\\Python313\\\\site-packages\\\\numpy\\\\__init__.py'>,\n",
       " array([[-0.99177885,  0.31322878, -0.40403765],\n",
       "        [ 0.55142668, -0.90557836,  0.96379539],\n",
       "        [-0.98803162, -0.94828214,  0.91294525]]))"
      ]
     },
     "execution_count": 16,
     "metadata": {},
     "output_type": "execute_result"
    }
   ],
   "source": [
    "#Trigonometric function\n",
    "from numpy import sin\n",
    "np,sin(a1)"
   ]
  },
  {
   "cell_type": "code",
   "execution_count": 17,
   "metadata": {},
   "outputs": [
    {
     "data": {
      "text/plain": [
       "array([[114, 120, 126],\n",
       "       [378, 400, 422],\n",
       "       [642, 680, 718]])"
      ]
     },
     "execution_count": 17,
     "metadata": {},
     "output_type": "execute_result"
    }
   ],
   "source": [
    "#dot product\n",
    "a2=np.arange(12).reshape(3,4)\n",
    "a3=np.arange(12,24).reshape(4,3)\n",
    "np.dot(a2,a3)"
   ]
  },
  {
   "cell_type": "code",
   "execution_count": 18,
   "metadata": {},
   "outputs": [
    {
     "name": "stdout",
     "output_type": "stream",
     "text": [
      "[0.         0.69314718 1.09861229 1.38629436 1.60943791 1.79175947\n",
      " 1.94591015 2.07944154 2.19722458 2.30258509 2.39789527 2.48490665]\n",
      "[2.71828183e+00 7.38905610e+00 2.00855369e+01 5.45981500e+01\n",
      " 1.48413159e+02 4.03428793e+02 1.09663316e+03 2.98095799e+03\n",
      " 8.10308393e+03 2.20264658e+04 5.98741417e+04 1.62754791e+05]\n"
     ]
    }
   ],
   "source": [
    "#log/exponents\n",
    "a4=np.arange(1,13)\n",
    "print(np.log(a4))\n",
    "print(np.exp(a4))"
   ]
  },
  {
   "cell_type": "code",
   "execution_count": 19,
   "metadata": {},
   "outputs": [
    {
     "name": "stdout",
     "output_type": "stream",
     "text": [
      "[[31. 64. 84.]\n",
      " [99. 44.  6.]\n",
      " [52. 16. 41.]]\n"
     ]
    }
   ],
   "source": [
    "#round(returns nearest round of integer of float)\n",
    "import numpy as np\n",
    "a5=np.random.random((3,3))\n",
    "print(np.round(a5*100))"
   ]
  },
  {
   "cell_type": "code",
   "execution_count": 20,
   "metadata": {},
   "outputs": [
    {
     "name": "stdout",
     "output_type": "stream",
     "text": [
      "[[31. 63. 84.]\n",
      " [99. 44.  5.]\n",
      " [52. 16. 41.]]\n",
      "[[ 32.  64.  85.]\n",
      " [100.  45.   6.]\n",
      " [ 53.  17.  42.]]\n"
     ]
    }
   ],
   "source": [
    "#floor(returns the behind round of integer)\n",
    "#ceil(return the infront round of integer)\n",
    "print(np.floor(a5*100))\n",
    "print(np.ceil(a5*100))"
   ]
  },
  {
   "cell_type": "markdown",
   "metadata": {},
   "source": [
    "# Indexing and Slicing"
   ]
  },
  {
   "cell_type": "code",
   "execution_count": 35,
   "metadata": {},
   "outputs": [],
   "source": [
    "a1=np.arange(10)\n",
    "a2=np.arange(12).reshape(3,4)\n",
    "a3=np.arange(8).reshape(2,2,2)"
   ]
  },
  {
   "cell_type": "code",
   "execution_count": 36,
   "metadata": {},
   "outputs": [
    {
     "name": "stdout",
     "output_type": "stream",
     "text": [
      "6\n"
     ]
    }
   ],
   "source": [
    "#indexing(2D)\n",
    "a2\n",
    "print(a2[1,2])"
   ]
  },
  {
   "cell_type": "code",
   "execution_count": 37,
   "metadata": {},
   "outputs": [
    {
     "name": "stdout",
     "output_type": "stream",
     "text": [
      "[[[0 1]\n",
      "  [2 3]]\n",
      "\n",
      " [[4 5]\n",
      "  [6 7]]]\n",
      "3\n",
      "7\n"
     ]
    }
   ],
   "source": [
    "#3D (indexing)\n",
    "print(a3)\n",
    "print(a3[0,1,1])\n",
    "print(a3[1,1,1])"
   ]
  },
  {
   "cell_type": "code",
   "execution_count": 38,
   "metadata": {},
   "outputs": [
    {
     "name": "stdout",
     "output_type": "stream",
     "text": [
      "[0 1 2 3 4 5 6 7 8 9]\n",
      "[0 1 2 3 4]\n",
      "[0 2 4]\n",
      "[0 2 4 6 8]\n"
     ]
    }
   ],
   "source": [
    "#Slicing(1D)\n",
    "print(a1)\n",
    "print(a1[0:5])\n",
    "print(a1[0:5:2])\n",
    "print(a1[::2])"
   ]
  },
  {
   "cell_type": "code",
   "execution_count": 39,
   "metadata": {},
   "outputs": [
    {
     "name": "stdout",
     "output_type": "stream",
     "text": [
      "[[ 0  1  2  3]\n",
      " [ 4  5  6  7]\n",
      " [ 8  9 10 11]]\n",
      "[0 1 2 3]\n",
      "[0 4 8]\n",
      "[[ 5  6]\n",
      " [ 9 10]]\n",
      "[[ 0  3]\n",
      " [ 8 11]]\n",
      "[[ 1  3]\n",
      " [ 9 11]]\n",
      "[4 7]\n",
      "[[1 2 3]\n",
      " [5 6 7]]\n"
     ]
    }
   ],
   "source": [
    "#Slicing(2D)\n",
    "print(a2)\n",
    "print(a2[0,:])#1st row\n",
    "print(a2[:,0])#1st coulmn\n",
    "print(a2[1:,1:3])\n",
    "print(a2[::2,::3])\n",
    "print(a2[::2,1::2])\n",
    "print(a2[1,::3])\n",
    "print(a2[:2,1:])"
   ]
  },
  {
   "cell_type": "code",
   "execution_count": 40,
   "metadata": {},
   "outputs": [
    {
     "name": "stdout",
     "output_type": "stream",
     "text": [
      "[[ 1  2]\n",
      " [ 9 10]]\n",
      "[[ 0  3]\n",
      " [ 8 11]]\n",
      "[[ 4  6]\n",
      " [ 8 10]]\n",
      "[[1 3]\n",
      " [5 7]]\n"
     ]
    }
   ],
   "source": [
    "print(a2[::2,1:3])\n",
    "print(a2[::2,::3])\n",
    "print(a2[1:3,:3:2])\n",
    "print(a2[:2,1::2])"
   ]
  },
  {
   "cell_type": "code",
   "execution_count": 41,
   "metadata": {},
   "outputs": [
    {
     "name": "stdout",
     "output_type": "stream",
     "text": [
      "[[ 1  2]\n",
      " [ 9 10]]\n",
      "[[ 5  6]\n",
      " [ 9 10]]\n",
      "[[ 4  7]\n",
      " [ 8 11]]\n",
      "[[0 3]\n",
      " [4 7]]\n"
     ]
    }
   ],
   "source": [
    "print(a2[::2,1:3])\n",
    "print(a2[1:,1:3])\n",
    "print(a2[1:,::3])\n",
    "print(a2[:2,::3])"
   ]
  },
  {
   "cell_type": "code",
   "execution_count": 46,
   "metadata": {},
   "outputs": [
    {
     "name": "stdout",
     "output_type": "stream",
     "text": [
      "[[[ 0  1  2]\n",
      "  [ 3  4  5]\n",
      "  [ 6  7  8]]\n",
      "\n",
      " [[ 9 10 11]\n",
      "  [12 13 14]\n",
      "  [15 16 17]]\n",
      "\n",
      " [[18 19 20]\n",
      "  [21 22 23]\n",
      "  [24 25 26]]]\n",
      "[[ 9 10 11]\n",
      " [12 13 14]\n",
      " [15 16 17]]\n",
      "[[[ 0  1  2]\n",
      "  [ 3  4  5]\n",
      "  [ 6  7  8]]\n",
      "\n",
      " [[18 19 20]\n",
      "  [21 22 23]\n",
      "  [24 25 26]]]\n"
     ]
    }
   ],
   "source": [
    "#Slicing(3D)\n",
    "a=np.arange(27).reshape(3,3,3)\n",
    "print(a)\n",
    "print(a[1])\n",
    "print(a[::2])"
   ]
  },
  {
   "cell_type": "code",
   "execution_count": 44,
   "metadata": {},
   "outputs": [
    {
     "name": "stdout",
     "output_type": "stream",
     "text": [
      "[[3 4 5]\n",
      " [6 7 8]]\n",
      "[10 13 16]\n",
      "[[22 23]\n",
      " [25 26]]\n",
      "[[ 0  2]\n",
      " [18 20]]\n"
     ]
    }
   ],
   "source": [
    "#slicing(3D)\n",
    "print(a[0,1:])\n",
    "print(a[1,:,1])\n",
    "print(a[2,1:,1:])\n",
    "print(a[::2,0,::2])"
   ]
  },
  {
   "cell_type": "markdown",
   "metadata": {},
   "source": [
    "# Iterating"
   ]
  },
  {
   "cell_type": "code",
   "execution_count": 69,
   "metadata": {},
   "outputs": [
    {
     "name": "stdout",
     "output_type": "stream",
     "text": [
      "0\n",
      "1\n",
      "2\n",
      "3\n",
      "4\n",
      "5\n",
      "6\n",
      "7\n",
      "8\n",
      "9\n"
     ]
    }
   ],
   "source": [
    "#1D array\n",
    "for i in a1:\n",
    "    print(i)"
   ]
  },
  {
   "cell_type": "code",
   "execution_count": 70,
   "metadata": {},
   "outputs": [
    {
     "name": "stdout",
     "output_type": "stream",
     "text": [
      "[0 1 2 3]\n",
      "[4 5 6 7]\n",
      "[ 8  9 10 11]\n"
     ]
    }
   ],
   "source": [
    "#2D Array(print row in every time )\n",
    "for i in a2:\n",
    "    print(i)"
   ]
  },
  {
   "cell_type": "code",
   "execution_count": 71,
   "metadata": {},
   "outputs": [
    {
     "name": "stdout",
     "output_type": "stream",
     "text": [
      "[[0 1]\n",
      " [2 3]]\n",
      "[[4 5]\n",
      " [6 7]]\n"
     ]
    }
   ],
   "source": [
    "#3D array(print 1 2D array in every time)\n",
    "for i in a3:\n",
    "    print(i)"
   ]
  },
  {
   "cell_type": "code",
   "execution_count": 72,
   "metadata": {},
   "outputs": [
    {
     "name": "stdout",
     "output_type": "stream",
     "text": [
      "0\n",
      "1\n",
      "2\n",
      "3\n",
      "4\n",
      "5\n",
      "6\n",
      "7\n"
     ]
    }
   ],
   "source": [
    "for i in np.nditer(a3):\n",
    "    print(i)"
   ]
  },
  {
   "cell_type": "markdown",
   "metadata": {},
   "source": [
    "# Reshaping/Tranpose/Ravel"
   ]
  },
  {
   "cell_type": "code",
   "execution_count": 73,
   "metadata": {},
   "outputs": [
    {
     "name": "stdout",
     "output_type": "stream",
     "text": [
      "[[ 0  4  8]\n",
      " [ 1  5  9]\n",
      " [ 2  6 10]\n",
      " [ 3  7 11]]\n"
     ]
    }
   ],
   "source": [
    "#Tranpose\n",
    "a=np.arange(12).reshape(3,4)\n",
    "print(np.transpose(a))"
   ]
  },
  {
   "cell_type": "code",
   "execution_count": 74,
   "metadata": {},
   "outputs": [
    {
     "name": "stdout",
     "output_type": "stream",
     "text": [
      "[ 0  1  2  3  4  5  6  7  8  9 10 11]\n"
     ]
    }
   ],
   "source": [
    "#Ravel(convert array in 1D)\n",
    "print(np.ravel(a))"
   ]
  },
  {
   "cell_type": "markdown",
   "metadata": {},
   "source": [
    "# Stacking"
   ]
  },
  {
   "cell_type": "code",
   "execution_count": 75,
   "metadata": {},
   "outputs": [
    {
     "name": "stdout",
     "output_type": "stream",
     "text": [
      "[[ 0  1  2  3 12 13 14 15]\n",
      " [ 4  5  6  7 16 17 18 19]\n",
      " [ 8  9 10 11 20 21 22 23]]\n"
     ]
    }
   ],
   "source": [
    "#Horizontal Stacking\n",
    "b=np.arange(12).reshape(3,4)\n",
    "c=np.arange(12,24).reshape(3,4)\n",
    "print(np.hstack((b,c)))"
   ]
  },
  {
   "cell_type": "code",
   "execution_count": 76,
   "metadata": {},
   "outputs": [
    {
     "name": "stdout",
     "output_type": "stream",
     "text": [
      "[[ 0  1  2  3]\n",
      " [ 4  5  6  7]\n",
      " [ 8  9 10 11]\n",
      " [12 13 14 15]\n",
      " [16 17 18 19]\n",
      " [20 21 22 23]]\n"
     ]
    }
   ],
   "source": [
    "#Vertical stacking\n",
    "print(np.vstack((b,c)))"
   ]
  },
  {
   "cell_type": "markdown",
   "metadata": {},
   "source": [
    "# Splitting"
   ]
  },
  {
   "cell_type": "code",
   "execution_count": 77,
   "metadata": {},
   "outputs": [
    {
     "name": "stdout",
     "output_type": "stream",
     "text": [
      "[array([[0, 1],\n",
      "       [4, 5],\n",
      "       [8, 9]]), array([[ 2,  3],\n",
      "       [ 6,  7],\n",
      "       [10, 11]])]\n"
     ]
    }
   ],
   "source": [
    "#Horizontal splitting\n",
    "print(np.hsplit(b,2))"
   ]
  },
  {
   "cell_type": "code",
   "execution_count": 78,
   "metadata": {},
   "outputs": [
    {
     "name": "stdout",
     "output_type": "stream",
     "text": [
      "[array([[12, 13, 14, 15]]), array([[16, 17, 18, 19]]), array([[20, 21, 22, 23]])]\n"
     ]
    }
   ],
   "source": [
    "#Vertical splitting\n",
    "print(np.vsplit(c,3))"
   ]
  }
 ],
 "metadata": {
  "kernelspec": {
   "display_name": "Python 3",
   "language": "python",
   "name": "python3"
  },
  "language_info": {
   "codemirror_mode": {
    "name": "ipython",
    "version": 3
   },
   "file_extension": ".py",
   "mimetype": "text/x-python",
   "name": "python",
   "nbconvert_exporter": "python",
   "pygments_lexer": "ipython3",
   "version": "3.13.0"
  }
 },
 "nbformat": 4,
 "nbformat_minor": 2
}
